{
  "nbformat": 4,
  "nbformat_minor": 0,
  "metadata": {
    "colab": {
      "name": "Day1_BandNameGenerator.ipynb",
      "provenance": [],
      "toc_visible": true
    },
    "kernelspec": {
      "name": "python3",
      "display_name": "Python 3"
    },
    "language_info": {
      "name": "python"
    }
  },
  "cells": [
    {
      "cell_type": "code",
      "source": [
        "#create a greeting for your program\n",
        "#ask the user for the city they grew up in\n",
        "#ask the user for the name of a pet\n",
        "#combine the name of their city and pet and show them their band name\n",
        "#make sure the input cursor shows on a new line"
      ],
      "metadata": {
        "id": "IDA-LNFBdxUy"
      },
      "execution_count": null,
      "outputs": []
    },
    {
      "cell_type": "code",
      "execution_count": 14,
      "metadata": {
        "id": "du0TIt0TL3vm",
        "colab": {
          "base_uri": "https://localhost:8080/"
        },
        "outputId": "1d497a0c-2210-4d99-a2d5-be4e4423e01c"
      },
      "outputs": [
        {
          "output_type": "stream",
          "name": "stdout",
          "text": [
            "Welcome to the band name generator.\n",
            "What is the name of the city you grew up in? \n",
            "sakldj\n",
            "What is your pets name?\n",
            "sada\n",
            "Your band name could be sakldj sada\n"
          ]
        }
      ],
      "source": [
        "welcome = \"Welcome to the band name generator.\"\n",
        "print(welcome) #this is a simple welcome messgae i just assigned it to a variable to put less in the print statement\n",
        "city = input('What is the name of the city you grew up in? ' + '\\n') #here i am creating a variable called town and it is taking an input\n",
        "pet = input('What is your pets name?' + '\\n') #here i am creating a variable called pet and it is taking an input\n",
        "print('Your band name could be ' + city + \" \" +pet) #here i am printing the variables i created earlier and it is outputting the inputted information and i am concatenating the two strings"
      ]
    },
    {
      "cell_type": "code",
      "source": [
        "num = input('Please input a random number: ')\n",
        "print(f'You inputtted {num} as the number') #these {} allow you to insert a variable into a string by using f strings"
      ],
      "metadata": {
        "colab": {
          "base_uri": "https://localhost:8080/"
        },
        "id": "byIWcGqyYt19",
        "outputId": "ca092ced-34de-47b8-c1e4-bd6b87f2cbcc"
      },
      "execution_count": 9,
      "outputs": [
        {
          "output_type": "stream",
          "name": "stdout",
          "text": [
            "Please input a random number: 34\n",
            "You inputtted 34 as the number\n"
          ]
        }
      ]
    }
  ]
}