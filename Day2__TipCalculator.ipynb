{
  "nbformat": 4,
  "nbformat_minor": 0,
  "metadata": {
    "colab": {
      "name": "Day2 _TipCalculator.ipynb",
      "provenance": [],
      "toc_visible": true
    },
    "kernelspec": {
      "name": "python3",
      "display_name": "Python 3"
    },
    "language_info": {
      "name": "python"
    }
  },
  "cells": [
    {
      "cell_type": "code",
      "execution_count": null,
      "metadata": {
        "id": "LRuhjpnxfsl8"
      },
      "outputs": [],
      "source": [
        "#if the bill was 150.00 split between 5 people wiht a 12% tip\n",
        "#each person should pay...\n",
        "#round the result to 2 decimal places "
      ]
    },
    {
      "cell_type": "code",
      "source": [
        "welcome = \"Welcome to the tip calculator.\" #assigning the welcome statmenet to a variable\n",
        "print(welcome) #printing the welcome statement\n",
        "total_bill = float(input('What was the total bill? ')) #converting the next 3 inputs into floats from the user\n",
        "split = float(input('How many people to split the bill? '))\n",
        "tip = float(input('What percentage tip would you like to give? '))\n",
        "final_tip = tip/100 #moving the tip from 12% over to .12 for later math\n",
        "total_bill += total_bill * final_tip #this calculates the bill + the tip on the bill\n",
        "per_person = total_bill/split #this splits the bill with tip included into the amount of people needed\n",
        "per_person = round(per_person, 2) #this rounds the number to two decimal places for change \n",
        "print(f\"Each person should pay: {per_person}\") #this prints the price per person"
      ],
      "metadata": {
        "colab": {
          "base_uri": "https://localhost:8080/"
        },
        "id": "avwrDkmffxiy",
        "outputId": "5850477b-1e18-40d5-8a9a-0802d837cb85"
      },
      "execution_count": 10,
      "outputs": [
        {
          "output_type": "stream",
          "name": "stdout",
          "text": [
            "Welcome to the tip calculator.\n",
            "What was the total bill? 150\n",
            "How many people to split the bill? 5\n",
            "What percentage tip would you like to give? 12\n",
            "Each person should pay: 33.6\n"
          ]
        }
      ]
    }
  ]
}