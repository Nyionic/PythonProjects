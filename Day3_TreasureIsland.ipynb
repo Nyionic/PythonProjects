{
  "nbformat": 4,
  "nbformat_minor": 0,
  "metadata": {
    "colab": {
      "name": "Day3_TreasureIsland.ipynb",
      "provenance": [],
      "toc_visible": true
    },
    "kernelspec": {
      "name": "python3",
      "display_name": "Python 3"
    },
    "language_info": {
      "name": "python"
    }
  },
  "cells": [
    {
      "cell_type": "code",
      "source": [
        "#this is a simple decision based game comprised of 3 decisions \n",
        "#the goal is to have a mastery of nested loops to create the game"
      ],
      "metadata": {
        "id": "XTw_wze-aslv"
      },
      "execution_count": null,
      "outputs": []
    },
    {
      "cell_type": "code",
      "source": [
        "welcome = 'Welcome to treasure Island. \\nYour Mission is to find the treasure.'#the next couple lines im making the statements into variables so i dont have to\n",
        "print(welcome) #retype them each time\n",
        "over = ('GAME OVER...')\n",
        "invalid = ('This was not a valid choice, please enter a valid answer.')\n",
        "winner = (\"You made it out!\")\n",
        "choice_one = input(\"There are two roads infront of you, you can either go left or right: \")\n",
        "if choice_one.lower() == \"left\": #here i am starting my first choice\n",
        "  choice_two = input(\"You go left and there is a lake, you can either swim or wait: \") \n",
        "  if choice_two.lower() == \"wait\": #here is the second choice if you get the correct first one\n",
        "    choice_three = input(\"You wait and suddenly three trap doors appear, red, blue, or yellow: \")\n",
        "    if choice_three.lower() == \"yellow\": #here is the correct answer for the third choice and also the start\n",
        "      print(winner)\n",
        "    elif choice_three.lower() == \"red\": #the other two options result in game over\n",
        "      print(over)\n",
        "    elif choice_three.lower() == \"blue\":\n",
        "      print(over)\n",
        "    else: #this is if the user does not input a valid answer\n",
        "      print(invalid)\n",
        "  elif choice_two.lower() == \"swim\": #here is the incorrect answer for the second choice which is on the same indent as the first second choice\n",
        "    print(over)\n",
        "  else: #here is the answer if you do not pick a choice listed\n",
        "    print(invalid)\n",
        "elif choice_one.lower() == \"right\": #here is the incorrect answer for the first choice on the same indent as my first choice\n",
        "  print(over)\n",
        "else: #here is the answer if you do not pick a choice listed\n",
        "  print(invalid)"
      ],
      "metadata": {
        "colab": {
          "base_uri": "https://localhost:8080/"
        },
        "id": "S7lQ_6kX0zQk",
        "outputId": "82e298d1-7d84-40da-972e-ec2fbe9d04f8"
      },
      "execution_count": 20,
      "outputs": [
        {
          "output_type": "stream",
          "name": "stdout",
          "text": [
            "Welcome to treasure Island. \n",
            "Your Mission is to find the treasure.\n",
            "There are two roads infront of you, you can either go left or right: left\n",
            "You go left and there is a lake, you can either swim or wait: wait\n",
            "You wait and suddenly three trap doors appear, red, blue, or yellow: yellow\n",
            "You made it out!\n"
          ]
        }
      ]
    }
  ]
}